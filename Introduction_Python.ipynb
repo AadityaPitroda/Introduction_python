{
  "nbformat": 4,
  "nbformat_minor": 0,
  "metadata": {
    "colab": {
      "provenance": [],
      "authorship_tag": "ABX9TyMECmfLW0jAPmzTZVj2rSph",
      "include_colab_link": true
    },
    "kernelspec": {
      "name": "python3",
      "display_name": "Python 3"
    },
    "language_info": {
      "name": "python"
    }
  },
  "cells": [
    {
      "cell_type": "markdown",
      "metadata": {
        "id": "view-in-github",
        "colab_type": "text"
      },
      "source": [
        "<a href=\"https://colab.research.google.com/github/AadityaPitroda/Introduction_python/blob/main/Introduction_Python.ipynb\" target=\"_parent\"><img src=\"https://colab.research.google.com/assets/colab-badge.svg\" alt=\"Open In Colab\"/></a>"
      ]
    },
    {
      "cell_type": "markdown",
      "source": [],
      "metadata": {
        "id": "5cE42BzZ36ih"
      }
    },
    {
      "cell_type": "markdown",
      "source": [
        "# First Python Programming on Google Collab with Markup Language:\n",
        "Printing Hello World in Python Language.\n",
        "\n",
        "\n",
        "*print()* is an in-built function which takes parameters, inside \"\" Python considered as a String.\n",
        "\n",
        "\n",
        "\n"
      ],
      "metadata": {
        "id": "ZHUyTbfm3g7J"
      }
    },
    {
      "cell_type": "code",
      "execution_count": null,
      "metadata": {
        "colab": {
          "base_uri": "https://localhost:8080/"
        },
        "id": "dTbeAVEi3LWS",
        "outputId": "931c122b-dcd7-42fe-bbff-c8fd6f111858"
      },
      "outputs": [
        {
          "output_type": "stream",
          "name": "stdout",
          "text": [
            "Hello World!\n"
          ]
        }
      ],
      "source": [
        "print(\"Hello World!\")"
      ]
    },
    {
      "cell_type": "markdown",
      "source": [
        "Perfroming addition of two variables:"
      ],
      "metadata": {
        "id": "EayPe9t25KZa"
      }
    },
    {
      "cell_type": "code",
      "source": [
        "number_1 = int(input(\"Enter Number 1: \"))\n",
        "number_2 = int(input(\"Enter Number 2: \"))\n",
        "\n",
        "result = number_1 + number_2\n",
        "print(f\"Sum of two Number is: {result}\")"
      ],
      "metadata": {
        "colab": {
          "base_uri": "https://localhost:8080/"
        },
        "id": "y4XjHi6K5WrD",
        "outputId": "1f5a59f4-a6df-4e9c-ccb5-e4941672d506"
      },
      "execution_count": null,
      "outputs": [
        {
          "output_type": "stream",
          "name": "stdout",
          "text": [
            "Enter Number 1: 09\n",
            "Enter Number 2: 09\n",
            "Sum of two Number is: 18\n"
          ]
        }
      ]
    },
    {
      "cell_type": "code",
      "source": [],
      "metadata": {
        "id": "xPoLxBqz5uJO"
      },
      "execution_count": null,
      "outputs": []
    }
  ]
}